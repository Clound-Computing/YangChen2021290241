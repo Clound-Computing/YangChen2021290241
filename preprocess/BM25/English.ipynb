{
 "cells": [
  {
   "cell_type": "markdown",
   "metadata": {},
   "source": [
    "# Loading"
   ]
  },
  {
   "cell_type": "code",
   "execution_count": 7,
   "metadata": {
    "ExecuteTime": {
     "end_time": "2022-06-04T15:57:58.416874Z",
     "start_time": "2022-06-04T15:57:57.944550Z"
    }
   },
   "outputs": [
    {
     "ename": "ModuleNotFoundError",
     "evalue": "No module named 'gensim.summarization'",
     "output_type": "error",
     "traceback": [
      "\u001B[1;31m---------------------------------------------------------------------------\u001B[0m",
      "\u001B[1;31mModuleNotFoundError\u001B[0m                       Traceback (most recent call last)",
      "Cell \u001B[1;32mIn[7], line 4\u001B[0m\n\u001B[0;32m      2\u001B[0m \u001B[38;5;28;01mimport\u001B[39;00m \u001B[38;5;21;01mrandom\u001B[39;00m\n\u001B[0;32m      3\u001B[0m \u001B[38;5;28;01mimport\u001B[39;00m \u001B[38;5;21;01msys\u001B[39;00m\n\u001B[1;32m----> 4\u001B[0m \u001B[38;5;28;01mimport\u001B[39;00m \u001B[38;5;21;01mbm25\u001B[39;00m\n\u001B[0;32m      5\u001B[0m \u001B[38;5;28;01mimport\u001B[39;00m \u001B[38;5;21;01mnumpy\u001B[39;00m \u001B[38;5;28;01mas\u001B[39;00m \u001B[38;5;21;01mnp\u001B[39;00m\n\u001B[0;32m      6\u001B[0m \u001B[38;5;28;01mfrom\u001B[39;00m \u001B[38;5;21;01mtqdm\u001B[39;00m \u001B[38;5;28;01mimport\u001B[39;00m tqdm\n",
      "File \u001B[1;32m~\\Desktop\\News-Environment-Perception-main\\preprocess\\BM25\\bm25.py:1\u001B[0m\n\u001B[1;32m----> 1\u001B[0m \u001B[38;5;28;01mfrom\u001B[39;00m \u001B[38;5;21;01mgensim\u001B[39;00m\u001B[38;5;21;01m.\u001B[39;00m\u001B[38;5;21;01msummarization\u001B[39;00m \u001B[38;5;28;01mimport\u001B[39;00m bm25\n\u001B[0;32m      2\u001B[0m \u001B[38;5;28;01mimport\u001B[39;00m \u001B[38;5;21;01mnumpy\u001B[39;00m \u001B[38;5;28;01mas\u001B[39;00m \u001B[38;5;21;01mnp\u001B[39;00m\n\u001B[0;32m      3\u001B[0m \u001B[38;5;28;01mimport\u001B[39;00m \u001B[38;5;21;01mjson\u001B[39;00m\n",
      "\u001B[1;31mModuleNotFoundError\u001B[0m: No module named 'gensim.summarization'"
     ]
    }
   ],
   "source": [
    "import json\n",
    "import random\n",
    "import sys\n",
    "import bm25\n",
    "import numpy as np\n",
    "from tqdm import tqdm"
   ]
  },
  {
   "cell_type": "code",
   "execution_count": null,
   "metadata": {
    "ExecuteTime": {
     "end_time": "2022-06-04T15:57:58.893543Z",
     "start_time": "2022-06-04T15:57:58.870886Z"
    }
   },
   "outputs": [],
   "source": [
    "datasets = []\n",
    "\n",
    "for t in ['train', 'val', 'test']:\n",
    "    with open('../../dataset/English/post/{}.json'.format(t), 'r') as f:\n",
    "        pieces = json.load(f)\n",
    "        print(len(pieces))\n",
    "        datasets.append(pieces)"
   ]
  },
  {
   "cell_type": "code",
   "execution_count": null,
   "metadata": {
    "ExecuteTime": {
     "end_time": "2022-06-04T15:58:00.440655Z",
     "start_time": "2022-06-04T15:58:00.424367Z"
    }
   },
   "outputs": [],
   "source": [
    "datasets[-1][-10]"
   ]
  },
  {
   "cell_type": "code",
   "execution_count": null,
   "metadata": {
    "ExecuteTime": {
     "end_time": "2022-06-04T15:58:09.603606Z",
     "start_time": "2022-06-04T15:58:08.881504Z"
    }
   },
   "outputs": [],
   "source": [
    "with open('../../dataset/English/articles/articles.json', 'r',encoding='utf-8') as f:\n",
    "    raw_articles = json.load(f)\n",
    "len(raw_articles)"
   ]
  },
  {
   "cell_type": "code",
   "execution_count": null,
   "metadata": {
    "ExecuteTime": {
     "end_time": "2022-06-04T15:58:10.003416Z",
     "start_time": "2022-06-04T15:58:09.996695Z"
    }
   },
   "outputs": [],
   "source": [
    "random.sample(raw_articles, 1)[0]"
   ]
  },
  {
   "cell_type": "code",
   "execution_count": null,
   "metadata": {
    "ExecuteTime": {
     "end_time": "2022-06-04T15:58:10.963374Z",
     "start_time": "2022-06-04T15:58:10.908487Z"
    }
   },
   "outputs": [],
   "source": [
    "corpus = [' '.join([a['title'], a['subtitle'], a['claim'], a['content']])\n",
    "          for a in raw_articles]\n",
    "len(corpus)"
   ]
  },
  {
   "cell_type": "code",
   "execution_count": null,
   "metadata": {
    "ExecuteTime": {
     "end_time": "2022-06-04T15:58:13.095030Z",
     "start_time": "2022-06-04T15:58:13.087747Z"
    }
   },
   "outputs": [],
   "source": [
    "random.sample(corpus, 1)[0]"
   ]
  },
  {
   "cell_type": "code",
   "execution_count": null,
   "metadata": {
    "ExecuteTime": {
     "end_time": "2022-06-04T15:58:16.497301Z",
     "start_time": "2022-06-04T15:58:14.054401Z"
    }
   },
   "outputs": [],
   "source": [
    "model = bm25.init_model(corpus)"
   ]
  },
  {
   "cell_type": "markdown",
   "metadata": {},
   "source": [
    "## Example"
   ]
  },
  {
   "cell_type": "code",
   "execution_count": null,
   "metadata": {
    "ExecuteTime": {
     "end_time": "2021-11-11T06:52:09.826383Z",
     "start_time": "2021-11-11T06:52:09.510712Z"
    }
   },
   "outputs": [],
   "source": [
    "p = random.sample(random.sample(datasets, 1)[0], 1)[0]\n",
    "print(p['content'], p['label'], p['time'])\n",
    "print()\n",
    "\n",
    "scores = bm25.get_a_query_scores(p['content'], model)\n",
    "scores, scores.shape\n",
    "\n",
    "for i, idx in enumerate(scores.argsort()[::-1][:10]):\n",
    "    print('='*10, 'Top:',i, ', Score =', scores[idx], '='*10, '\\n')\n",
    "    print(raw_articles[idx]['date'])\n",
    "    print(corpus[idx])\n",
    "    print()"
   ]
  },
  {
   "cell_type": "markdown",
   "metadata": {},
   "source": [
    "## Total"
   ]
  },
  {
   "cell_type": "code",
   "execution_count": null,
   "metadata": {
    "ExecuteTime": {
     "end_time": "2021-11-11T07:17:40.821237Z",
     "start_time": "2021-11-11T06:53:44.825226Z"
    }
   },
   "outputs": [],
   "source": [
    "for i, pieces in enumerate(datasets):\n",
    "    queries = [p['content'] for p in pieces]\n",
    "    scores_arr = bm25.get_total_scores(queries, corpus, bm25_model=model)\n",
    "    np.save(\n",
    "        'data/English/bm25_{}.npy'.format(['train', 'val', 'test'][i]), scores_arr)"
   ]
  },
  {
   "cell_type": "markdown",
   "metadata": {},
   "source": [
    "# Export Top 10 (only articles published BEFORE the post)"
   ]
  },
  {
   "cell_type": "markdown",
   "metadata": {},
   "source": [
    "## Loading"
   ]
  },
  {
   "cell_type": "code",
   "execution_count": null,
   "metadata": {
    "ExecuteTime": {
     "end_time": "2021-11-11T07:18:34.671970Z",
     "start_time": "2021-11-11T07:18:34.208948Z"
    }
   },
   "outputs": [],
   "source": [
    "import json\n",
    "import random\n",
    "import sys\n",
    "import bm25\n",
    "import numpy as np\n",
    "from tqdm import tqdm\n",
    "import numpy as np\n",
    "import pickle"
   ]
  },
  {
   "cell_type": "code",
   "execution_count": null,
   "metadata": {
    "ExecuteTime": {
     "end_time": "2021-11-11T07:18:42.271148Z",
     "start_time": "2021-11-11T07:18:42.232787Z"
    }
   },
   "outputs": [],
   "source": [
    "datasets = []\n",
    "\n",
    "for t in ['train', 'val', 'test']:\n",
    "    with open('../../dataset/English/post/{}.json'.format(t), 'r') as f:\n",
    "        pieces = json.load(f)\n",
    "        print(len(pieces))\n",
    "        datasets.append(pieces)"
   ]
  },
  {
   "cell_type": "code",
   "execution_count": null,
   "metadata": {
    "ExecuteTime": {
     "end_time": "2021-11-11T07:18:43.294658Z",
     "start_time": "2021-11-11T07:18:43.279266Z"
    }
   },
   "outputs": [],
   "source": [
    "datasets[-1][-10]"
   ]
  },
  {
   "cell_type": "code",
   "execution_count": null,
   "metadata": {
    "ExecuteTime": {
     "end_time": "2021-11-11T07:18:52.784853Z",
     "start_time": "2021-11-11T07:18:52.272162Z"
    }
   },
   "outputs": [],
   "source": [
    "with open('../../dataset/Twitter/articles/Snopes_8084.json', 'r') as f:\n",
    "    raw_articles = json.load(f)\n",
    "len(raw_articles)"
   ]
  },
  {
   "cell_type": "code",
   "execution_count": null,
   "metadata": {
    "ExecuteTime": {
     "end_time": "2021-11-11T07:18:54.235479Z",
     "start_time": "2021-11-11T07:18:54.230092Z"
    }
   },
   "outputs": [],
   "source": [
    "random.sample(raw_articles, 1)[0]"
   ]
  },
  {
   "cell_type": "markdown",
   "metadata": {},
   "source": [
    "## Find the nearest article"
   ]
  },
  {
   "cell_type": "code",
   "execution_count": null,
   "metadata": {
    "ExecuteTime": {
     "end_time": "2021-11-11T07:19:07.107477Z",
     "start_time": "2021-11-11T07:19:07.099937Z"
    }
   },
   "outputs": [],
   "source": [
    "articles_times = [a['date'] for a in raw_articles]\n",
    "len(articles_times)"
   ]
  },
  {
   "cell_type": "code",
   "execution_count": null,
   "metadata": {
    "ExecuteTime": {
     "end_time": "2021-11-11T07:19:07.961110Z",
     "start_time": "2021-11-11T07:19:07.941398Z"
    }
   },
   "outputs": [],
   "source": [
    "articles_times"
   ]
  },
  {
   "cell_type": "code",
   "execution_count": null,
   "metadata": {
    "ExecuteTime": {
     "end_time": "2021-11-11T07:19:30.278073Z",
     "start_time": "2021-11-11T07:19:30.271890Z"
    }
   },
   "outputs": [],
   "source": [
    "'2004-08-19 16:59:00' < '2005-08-12', '2004-08-19 16:59:00' > '1995-09-25'"
   ]
  },
  {
   "cell_type": "code",
   "execution_count": null,
   "metadata": {
    "ExecuteTime": {
     "end_time": "2021-11-11T07:19:36.014407Z",
     "start_time": "2021-11-11T07:19:36.009120Z"
    }
   },
   "outputs": [],
   "source": [
    "def find_the_nearest_article_idx(post_time):\n",
    "    assert len(articles_times) == len(raw_articles)\n",
    "    times = articles_times.copy()\n",
    "    times.append(post_time)\n",
    "    times.sort()\n",
    "    return times.index(post_time) - 1"
   ]
  },
  {
   "cell_type": "code",
   "execution_count": null,
   "metadata": {
    "ExecuteTime": {
     "end_time": "2021-11-11T07:20:19.989700Z",
     "start_time": "2021-11-11T07:20:19.979113Z"
    }
   },
   "outputs": [],
   "source": [
    "p = random.sample(random.sample(datasets, 1)[0], 1)[0]\n",
    "print(p['content'], '\\n', p['label'], p['time'])\n",
    "print()\n",
    "\n",
    "idx = find_the_nearest_article_idx(p['time'])\n",
    "\n",
    "print(articles_times[idx])\n",
    "print()\n",
    "print(articles_times[idx-5:idx+5])"
   ]
  },
  {
   "cell_type": "markdown",
   "metadata": {},
   "source": [
    "## Export"
   ]
  },
  {
   "cell_type": "markdown",
   "metadata": {},
   "source": [
    "### Example"
   ]
  },
  {
   "cell_type": "code",
   "execution_count": null,
   "metadata": {
    "ExecuteTime": {
     "end_time": "2021-11-11T07:20:30.775995Z",
     "start_time": "2021-11-11T07:20:30.659891Z"
    }
   },
   "outputs": [],
   "source": [
    "bm25_rank = np.load('./data/English/bm25_train.npy')\n",
    "bm25_rank.shape"
   ]
  },
  {
   "cell_type": "code",
   "execution_count": null,
   "metadata": {
    "ExecuteTime": {
     "end_time": "2021-11-11T07:20:31.697997Z",
     "start_time": "2021-11-11T07:20:31.690302Z"
    }
   },
   "outputs": [],
   "source": [
    "bm25_rank"
   ]
  },
  {
   "cell_type": "code",
   "execution_count": null,
   "metadata": {
    "ExecuteTime": {
     "end_time": "2021-11-11T07:20:40.115486Z",
     "start_time": "2021-11-11T07:20:37.831995Z"
    }
   },
   "outputs": [],
   "source": [
    "ranked_arr = (-bm25_rank).argsort()"
   ]
  },
  {
   "cell_type": "code",
   "execution_count": null,
   "metadata": {
    "ExecuteTime": {
     "end_time": "2021-11-11T07:20:41.434420Z",
     "start_time": "2021-11-11T07:20:41.428928Z"
    }
   },
   "outputs": [],
   "source": [
    "ranked_arr"
   ]
  },
  {
   "cell_type": "code",
   "execution_count": null,
   "metadata": {
    "ExecuteTime": {
     "end_time": "2021-11-11T07:20:55.479380Z",
     "start_time": "2021-11-11T07:20:55.471148Z"
    }
   },
   "outputs": [],
   "source": [
    "bm25_rank[0][3399],bm25_rank[0][1210],bm25_rank[0][4978],bm25_rank[0][1033],"
   ]
  },
  {
   "cell_type": "code",
   "execution_count": null,
   "metadata": {
    "ExecuteTime": {
     "end_time": "2021-11-11T07:21:00.473747Z",
     "start_time": "2021-11-11T07:21:00.467434Z"
    }
   },
   "outputs": [],
   "source": [
    "datasets[0][0]"
   ]
  },
  {
   "cell_type": "code",
   "execution_count": 8,
   "metadata": {
    "ExecuteTime": {
     "end_time": "2021-11-11T07:21:09.359468Z",
     "start_time": "2021-11-11T07:21:09.355895Z"
    }
   },
   "outputs": [
    {
     "ename": "NameError",
     "evalue": "name 'raw_articles' is not defined",
     "output_type": "error",
     "traceback": [
      "\u001B[1;31m---------------------------------------------------------------------------\u001B[0m",
      "\u001B[1;31mNameError\u001B[0m                                 Traceback (most recent call last)",
      "Cell \u001B[1;32mIn[8], line 1\u001B[0m\n\u001B[1;32m----> 1\u001B[0m \u001B[43mraw_articles\u001B[49m[\u001B[38;5;241m3399\u001B[39m]\n",
      "\u001B[1;31mNameError\u001B[0m: name 'raw_articles' is not defined"
     ]
    }
   ],
   "source": [
    "raw_articles[3399]"
   ]
  },
  {
   "cell_type": "code",
   "execution_count": null,
   "metadata": {
    "ExecuteTime": {
     "end_time": "2021-11-11T07:21:39.526719Z",
     "start_time": "2021-11-11T07:21:39.519183Z"
    }
   },
   "outputs": [],
   "source": [
    "idx = find_the_nearest_article_idx(datasets[0][0]['time'])\n",
    "idx"
   ]
  },
  {
   "cell_type": "code",
   "execution_count": null,
   "metadata": {
    "ExecuteTime": {
     "end_time": "2021-11-11T07:21:44.084639Z",
     "start_time": "2021-11-11T07:21:44.078502Z"
    }
   },
   "outputs": [],
   "source": [
    "ranked_arr[0]"
   ]
  },
  {
   "cell_type": "code",
   "execution_count": null,
   "metadata": {
    "ExecuteTime": {
     "end_time": "2021-11-11T07:21:45.350188Z",
     "start_time": "2021-11-11T07:21:45.342060Z"
    }
   },
   "outputs": [],
   "source": [
    "valid_idxs = np.where(ranked_arr[0] <= idx, ranked_arr[0], -1)\n",
    "valid_idxs = [i for i in valid_idxs.tolist() if i != -1]\n",
    "valid_idxs[:10]"
   ]
  },
  {
   "cell_type": "code",
   "execution_count": null,
   "metadata": {
    "ExecuteTime": {
     "end_time": "2021-11-11T07:21:50.226147Z",
     "start_time": "2021-11-11T07:21:50.220802Z"
    }
   },
   "outputs": [],
   "source": [
    "raw_articles[1210]"
   ]
  },
  {
   "cell_type": "markdown",
   "metadata": {},
   "source": [
    "### Total"
   ]
  },
  {
   "cell_type": "code",
   "execution_count": null,
   "metadata": {
    "ExecuteTime": {
     "end_time": "2021-11-11T07:22:33.766832Z",
     "start_time": "2021-11-11T07:22:24.885661Z"
    }
   },
   "outputs": [],
   "source": [
    "for t in ['train', 'val', 'test']:\n",
    "    with open('../../dataset/English/post/{}.json'.format(t), 'r') as f:\n",
    "        pieces = json.load(f)\n",
    "    print('Pieces: ', len(pieces))\n",
    "    \n",
    "    bm25_rank = np.load('./data/English/bm25_{}.npy'.format(t))\n",
    "    print(t, bm25_rank.shape)\n",
    "    \n",
    "    print('\\nSorting...')\n",
    "    ranked_arr = (-bm25_rank).argsort()\n",
    "    print('Done. ranked_arr: {}\\n'.format(ranked_arr.shape))\n",
    "    \n",
    "    ranked_articles = []\n",
    "    zero_num = 0\n",
    "    for i, p in enumerate(tqdm(pieces)):\n",
    "        idx = find_the_nearest_article_idx(p['time'])\n",
    "        \n",
    "        valid_idxs = np.where(ranked_arr[i] <= idx, ranked_arr[i], -1)\n",
    "        valid_idxs = [aid for aid in valid_idxs.tolist() if aid != -1]\n",
    "        if len(valid_idxs) == 0:\n",
    "            zero_num += 1\n",
    "        \n",
    "        ranked_articles.append(valid_idxs)\n",
    "        \n",
    "    with open('./data/English/ranked_articles_{}.pkl'.format(t), 'wb') as f:\n",
    "        pickle.dump(ranked_articles, f)\n",
    "        \n",
    "    print('Dataset: {}, zero_num = {}\\n{}\\n'.format(t, zero_num, '='*15))"
   ]
  },
  {
   "cell_type": "markdown",
   "metadata": {},
   "source": [
    "### Top10"
   ]
  },
  {
   "cell_type": "code",
   "execution_count": null,
   "metadata": {
    "ExecuteTime": {
     "end_time": "2021-11-11T07:22:48.698065Z",
     "start_time": "2021-11-11T07:22:48.560188Z"
    }
   },
   "outputs": [],
   "source": [
    "import pickle\n",
    "import random\n",
    "import numpy as np\n",
    "from tqdm import tqdm"
   ]
  },
  {
   "cell_type": "code",
   "execution_count": null,
   "metadata": {
    "ExecuteTime": {
     "end_time": "2021-11-11T07:23:33.093286Z",
     "start_time": "2021-11-11T07:23:32.135618Z"
    }
   },
   "outputs": [],
   "source": [
    "TOP=10\n",
    "\n",
    "for t in ['train', 'val', 'test']:\n",
    "    with open('./data/English/ranked_articles_{}.pkl'.format(t), 'rb') as f:\n",
    "        ranked_articles = pickle.load(f)\n",
    "    print('{}: {}'.format(t, len(ranked_articles)))\n",
    "    \n",
    "    # <Padding> value = -1\n",
    "    top_arr = np.zeros((len(ranked_articles), TOP)) - 1\n",
    "    for i, ranks in enumerate(tqdm(ranked_articles)):\n",
    "        sz = min(TOP, len(ranks))\n",
    "        top_arr[i, :sz] = ranks[:sz]\n",
    "        \n",
    "    file = './data/English/Top{}_articles_{}.npy'.format(TOP, t)\n",
    "    np.save(file, top_arr)"
   ]
  },
  {
   "cell_type": "code",
   "execution_count": null,
   "metadata": {
    "ExecuteTime": {
     "end_time": "2021-11-11T07:23:37.833555Z",
     "start_time": "2021-11-11T07:23:37.818997Z"
    }
   },
   "outputs": [],
   "source": [
    "top_arr.shape"
   ]
  },
  {
   "cell_type": "code",
   "execution_count": null,
   "metadata": {
    "ExecuteTime": {
     "end_time": "2021-11-11T07:23:38.639303Z",
     "start_time": "2021-11-11T07:23:38.632947Z"
    }
   },
   "outputs": [],
   "source": [
    "top_arr"
   ]
  },
  {
   "cell_type": "markdown",
   "metadata": {},
   "source": [
    "# Check"
   ]
  },
  {
   "cell_type": "code",
   "execution_count": null,
   "metadata": {
    "ExecuteTime": {
     "end_time": "2022-06-04T16:00:28.935227Z",
     "start_time": "2022-06-04T16:00:28.529423Z"
    }
   },
   "outputs": [],
   "source": [
    "import json\n",
    "import random\n",
    "import sys\n",
    "import bm25\n",
    "import numpy as np\n",
    "from tqdm import tqdm"
   ]
  },
  {
   "cell_type": "code",
   "execution_count": 9,
   "metadata": {
    "ExecuteTime": {
     "end_time": "2022-06-04T16:00:34.342709Z",
     "start_time": "2022-06-04T16:00:34.300791Z"
    }
   },
   "outputs": [
    {
     "ename": "UnicodeDecodeError",
     "evalue": "'gbk' codec can't decode byte 0xa6 in position 378: illegal multibyte sequence",
     "output_type": "error",
     "traceback": [
      "\u001B[1;31m---------------------------------------------------------------------------\u001B[0m",
      "\u001B[1;31mUnicodeDecodeError\u001B[0m                        Traceback (most recent call last)",
      "Cell \u001B[1;32mIn[9], line 6\u001B[0m\n\u001B[0;32m      4\u001B[0m \u001B[38;5;28;01mfor\u001B[39;00m t \u001B[38;5;129;01min\u001B[39;00m [\u001B[38;5;124m'\u001B[39m\u001B[38;5;124mtrain\u001B[39m\u001B[38;5;124m'\u001B[39m, \u001B[38;5;124m'\u001B[39m\u001B[38;5;124mval\u001B[39m\u001B[38;5;124m'\u001B[39m, \u001B[38;5;124m'\u001B[39m\u001B[38;5;124mtest\u001B[39m\u001B[38;5;124m'\u001B[39m]:\n\u001B[0;32m      5\u001B[0m     \u001B[38;5;28;01mwith\u001B[39;00m \u001B[38;5;28mopen\u001B[39m(\u001B[38;5;124m'\u001B[39m\u001B[38;5;124m../../dataset/English/post/\u001B[39m\u001B[38;5;132;01m{}\u001B[39;00m\u001B[38;5;124m.json\u001B[39m\u001B[38;5;124m'\u001B[39m\u001B[38;5;241m.\u001B[39mformat(t), \u001B[38;5;124m'\u001B[39m\u001B[38;5;124mr\u001B[39m\u001B[38;5;124m'\u001B[39m) \u001B[38;5;28;01mas\u001B[39;00m f:\n\u001B[1;32m----> 6\u001B[0m         pieces \u001B[38;5;241m=\u001B[39m \u001B[43mjson\u001B[49m\u001B[38;5;241;43m.\u001B[39;49m\u001B[43mload\u001B[49m\u001B[43m(\u001B[49m\u001B[43mf\u001B[49m\u001B[43m)\u001B[49m\n\u001B[0;32m      7\u001B[0m     \u001B[38;5;28mprint\u001B[39m(\u001B[38;5;28mlen\u001B[39m(pieces))\n\u001B[0;32m      9\u001B[0m     arr \u001B[38;5;241m=\u001B[39m np\u001B[38;5;241m.\u001B[39mload(\u001B[38;5;124m'\u001B[39m\u001B[38;5;124m./data/English/Top10_articles_\u001B[39m\u001B[38;5;132;01m{}\u001B[39;00m\u001B[38;5;124m.npy\u001B[39m\u001B[38;5;124m'\u001B[39m\u001B[38;5;241m.\u001B[39mformat(t))\n",
      "File \u001B[1;32mD:\\Users\\LENOVO\\miniconda3\\lib\\json\\__init__.py:293\u001B[0m, in \u001B[0;36mload\u001B[1;34m(fp, cls, object_hook, parse_float, parse_int, parse_constant, object_pairs_hook, **kw)\u001B[0m\n\u001B[0;32m    274\u001B[0m \u001B[38;5;28;01mdef\u001B[39;00m \u001B[38;5;21mload\u001B[39m(fp, \u001B[38;5;241m*\u001B[39m, \u001B[38;5;28mcls\u001B[39m\u001B[38;5;241m=\u001B[39m\u001B[38;5;28;01mNone\u001B[39;00m, object_hook\u001B[38;5;241m=\u001B[39m\u001B[38;5;28;01mNone\u001B[39;00m, parse_float\u001B[38;5;241m=\u001B[39m\u001B[38;5;28;01mNone\u001B[39;00m,\n\u001B[0;32m    275\u001B[0m         parse_int\u001B[38;5;241m=\u001B[39m\u001B[38;5;28;01mNone\u001B[39;00m, parse_constant\u001B[38;5;241m=\u001B[39m\u001B[38;5;28;01mNone\u001B[39;00m, object_pairs_hook\u001B[38;5;241m=\u001B[39m\u001B[38;5;28;01mNone\u001B[39;00m, \u001B[38;5;241m*\u001B[39m\u001B[38;5;241m*\u001B[39mkw):\n\u001B[0;32m    276\u001B[0m \u001B[38;5;250m    \u001B[39m\u001B[38;5;124;03m\"\"\"Deserialize ``fp`` (a ``.read()``-supporting file-like object containing\u001B[39;00m\n\u001B[0;32m    277\u001B[0m \u001B[38;5;124;03m    a JSON document) to a Python object.\u001B[39;00m\n\u001B[0;32m    278\u001B[0m \n\u001B[1;32m   (...)\u001B[0m\n\u001B[0;32m    291\u001B[0m \u001B[38;5;124;03m    kwarg; otherwise ``JSONDecoder`` is used.\u001B[39;00m\n\u001B[0;32m    292\u001B[0m \u001B[38;5;124;03m    \"\"\"\u001B[39;00m\n\u001B[1;32m--> 293\u001B[0m     \u001B[38;5;28;01mreturn\u001B[39;00m loads(\u001B[43mfp\u001B[49m\u001B[38;5;241;43m.\u001B[39;49m\u001B[43mread\u001B[49m\u001B[43m(\u001B[49m\u001B[43m)\u001B[49m,\n\u001B[0;32m    294\u001B[0m         \u001B[38;5;28mcls\u001B[39m\u001B[38;5;241m=\u001B[39m\u001B[38;5;28mcls\u001B[39m, object_hook\u001B[38;5;241m=\u001B[39mobject_hook,\n\u001B[0;32m    295\u001B[0m         parse_float\u001B[38;5;241m=\u001B[39mparse_float, parse_int\u001B[38;5;241m=\u001B[39mparse_int,\n\u001B[0;32m    296\u001B[0m         parse_constant\u001B[38;5;241m=\u001B[39mparse_constant, object_pairs_hook\u001B[38;5;241m=\u001B[39mobject_pairs_hook, \u001B[38;5;241m*\u001B[39m\u001B[38;5;241m*\u001B[39mkw)\n",
      "\u001B[1;31mUnicodeDecodeError\u001B[0m: 'gbk' codec can't decode byte 0xa6 in position 378: illegal multibyte sequence"
     ]
    }
   ],
   "source": [
    "datasets = []\n",
    "top_articles = []\n",
    "\n",
    "for t in ['train', 'val', 'test']:\n",
    "    with open('../../dataset/English/post/{}.json'.format(t), 'r',encoding='utf-8') as f:\n",
    "        pieces = json.load(f)\n",
    "    print(len(pieces))\n",
    "    \n",
    "    arr = np.load('./data/English/Top10_articles_{}.npy'.format(t))\n",
    "    arr = np.array(arr, dtype=int)\n",
    "    print(arr.shape)\n",
    "    \n",
    "    datasets.append(pieces)\n",
    "    top_articles.append(arr)"
   ]
  },
  {
   "cell_type": "code",
   "execution_count": null,
   "metadata": {
    "ExecuteTime": {
     "end_time": "2022-06-04T16:00:43.525766Z",
     "start_time": "2022-06-04T16:00:43.021471Z"
    }
   },
   "outputs": [],
   "source": [
    "with open('../../dataset/English/articles/articles.json', 'r') as f:\n",
    "    raw_articles = json.load(f)\n",
    "len(raw_articles)"
   ]
  },
  {
   "cell_type": "code",
   "execution_count": null,
   "metadata": {
    "ExecuteTime": {
     "end_time": "2022-06-04T16:00:44.113664Z",
     "start_time": "2022-06-04T16:00:44.071957Z"
    }
   },
   "outputs": [],
   "source": [
    "t = random.randint(0,2)\n",
    "pieces = datasets[t]\n",
    "arr = top_articles[t]\n",
    "\n",
    "i = random.randint(0, len(pieces)-1)\n",
    "p = pieces[i]\n",
    "rank = arr[i]\n",
    "\n",
    "print(p['content'], p['label'], p['time'])\n",
    "print()\n",
    "\n",
    "for i, idx in enumerate(rank):\n",
    "    print('='*20, 'Top:',i, '='*20, '\\n')\n",
    "    print(raw_articles[idx]['date'])\n",
    "    print(raw_articles[idx]['content'])\n",
    "    print()"
   ]
  },
  {
   "cell_type": "code",
   "execution_count": null,
   "metadata": {},
   "outputs": [],
   "source": []
  }
 ],
 "metadata": {
  "kernelspec": {
   "display_name": "Python 3",
   "language": "python",
   "name": "python3"
  },
  "language_info": {
   "codemirror_mode": {
    "name": "ipython",
    "version": 3
   },
   "file_extension": ".py",
   "mimetype": "text/x-python",
   "name": "python",
   "nbconvert_exporter": "python",
   "pygments_lexer": "ipython3",
   "version": "3.6.10"
  },
  "toc": {
   "base_numbering": 1,
   "nav_menu": {},
   "number_sections": true,
   "sideBar": true,
   "skip_h1_title": false,
   "title_cell": "Table of Contents",
   "title_sidebar": "Contents",
   "toc_cell": false,
   "toc_position": {},
   "toc_section_display": true,
   "toc_window_display": true
  }
 },
 "nbformat": 4,
 "nbformat_minor": 4
}
